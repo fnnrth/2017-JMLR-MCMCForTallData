{
  "cells": [
    {
      "cell_type": "markdown",
      "metadata": {
        "id": "view-in-github",
        "colab_type": "text"
      },
      "source": [
        "<a href=\"https://colab.research.google.com/github/fnnrth/2017-JMLR-MCMCForTallData/blob/master/vanillaMH.ipynb\" target=\"_parent\"><img src=\"https://colab.research.google.com/assets/colab-badge.svg\" alt=\"Open In Colab\"/></a>"
      ]
    },
    {
      "cell_type": "code",
      "execution_count": null,
      "metadata": {
        "id": "RsIlA6oNDofz"
      },
      "outputs": [],
      "source": [
        "import numpy as np\n",
        "import numpy.random as npr\n",
        "import scipy.stats as sps\n",
        "import scipy.special as spsp\n",
        "import scipy.misc as spm\n",
        "import numpy.linalg as npl\n",
        "import matplotlib.pyplot as plt"
      ]
    },
    {
      "cell_type": "code",
      "execution_count": null,
      "metadata": {
        "colab": {
          "base_uri": "https://localhost:8080/"
        },
        "id": "zsQxh6Vuvy5u",
        "outputId": "4da389c0-f8c2-493d-f2d2-d027749165ba"
      },
      "outputs": [
        {
          "name": "stdout",
          "output_type": "stream",
          "text": [
            "Mean of x = 0.005253028489682668\n",
            "Std of x = 0.9983292735417362\n"
          ]
        }
      ],
      "source": [
        "npr.seed(1)\n",
        "N = 100000\n",
        "dataType = \"Gaussian\"\n",
        "#dataType = \"logNormal\"\n",
        "if dataType == \"Gaussian\":\n",
        "    x = npr.randn(N)\n",
        "elif dataType == \"logNormal\":\n",
        "    x = npr.lognormal(0,1,size=N)\n",
        "\n",
        "# We store the mean and std deviation for later reference, they are also the MAP and MLE estimates in this case.\n",
        "realMean = np.mean(x)\n",
        "realStd = np.std(x)\n",
        "print(f\"Mean of x = {realMean}\")\n",
        "print(f\"Std of x = {realStd}\")"
      ]
    },
    {
      "cell_type": "code",
      "execution_count": null,
      "metadata": {
        "id": "KmfuvFIUImqO"
      },
      "outputs": [],
      "source": [
        "class MetropolisHastings:\n",
        "  def run(self):\n",
        "    pass\n",
        "\n",
        "  def step(self):\n",
        "    pass\n",
        "\n",
        "  def get_LogLhd(self, data, theta):\n",
        "    return -(data- theta[0])**2/(2*theta[1]**2) - np.log(theta[1])"
      ]
    },
    {
      "cell_type": "code",
      "execution_count": null,
      "metadata": {
        "id": "EO8ytujBFicw"
      },
      "outputs": [],
      "source": [
        "class vanillaMH(MetropolisHastings):\n",
        "\n",
        "    def run(self,data, T,theta):\n",
        "      N = len(data)\n",
        "      stepsize = 0.5/np.sqrt(N)\n",
        "\n",
        "      S = np.zeros((T, 2))\n",
        "      for i in range(T):\n",
        "          S[i,:] = self.step(data, theta, stepsize)\n",
        "\n",
        "      return S\n",
        "\n",
        "    def step(self,data , theta: np.ndarray, stepsize: int ):\n",
        "\n",
        "        theta_new = theta + stepsize*npr.default_rng().standard_normal(size=2)\n",
        "        lhds_old = self.get_LogLhd(data,theta)\n",
        "        lhds_new = self.get_LogLhd(data,theta_new)\n",
        "        lhds = np.mean(lhds_new - lhds_old)\n",
        "        u = np.log(npr.rand())\n",
        "\n",
        "        if N*lhds > u:\n",
        "          theta = theta_new\n",
        "\n",
        "        return theta"
      ]
    },
    {
      "cell_type": "code",
      "execution_count": null,
      "metadata": {
        "colab": {
          "background_save": true
        },
        "id": "MEl9V0WOvDQK",
        "outputId": "75fec254-7da7-4515-e62e-9e78d8693614"
      },
      "outputs": [
        {
          "name": "stdout",
          "output_type": "stream",
          "text": [
            "[[0.1977552  1.39914588]\n",
            " [0.2        1.4       ]\n",
            " [0.2        1.4       ]\n",
            " ...\n",
            " [0.2        1.4       ]\n",
            " [0.2011734  1.39925832]\n",
            " [0.19854911 1.39769867]]\n"
          ]
        },
        {
          "data": {
            "image/png": "[encoded data removed]",
            "text/plain": [
              "<Figure size 640x480 with 1 Axes>"
            ]
          },
          "metadata": {},
          "output_type": "display_data"
        }
      ],
      "source": [
        "z = vanillaMH()\n",
        "theta = np.array([realMean,realStd])\n",
        "S = z.run(x,100000, np.array([0.2,1.4]))\n",
        "plt.hist(S[:,0],50)\n",
        "print(S)"
      ]
    }
  ],
  "metadata": {
    "colab": {
      "provenance": [],
      "authorship_tag": "ABX9TyPVYwoIs6sZww7wKaI+aN/1",
      "include_colab_link": true
    },
    "kernelspec": {
      "display_name": "Python 3",
      "name": "python3"
    },
    "language_info": {
      "name": "python"
    }
  },
  "nbformat": 4,
  "nbformat_minor": 0
}